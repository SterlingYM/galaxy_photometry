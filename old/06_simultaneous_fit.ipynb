{
 "cells": [
  {
   "cell_type": "code",
   "execution_count": 1,
   "metadata": {},
   "outputs": [],
   "source": [
    "%load_ext autoreload\n",
    "%autoreload 2"
   ]
  },
  {
   "cell_type": "code",
   "execution_count": 2,
   "metadata": {},
   "outputs": [],
   "source": [
    "import numpy as np\n",
    "import matplotlib.pyplot as plt\n",
    "import pandas as pd\n",
    "import h5py\n",
    "import glob\n",
    "import os\n",
    "\n",
    "from util.sphot2 import CutoutData, MultiBandCutout, astroplot, calc_mag\n",
    "import logging\n",
    "\n",
    "# logger\n",
    "logger = logging.getLogger('sphot2')\n",
    "logger.setLevel(logging.INFO)"
   ]
  },
  {
   "cell_type": "markdown",
   "metadata": {},
   "source": [
    "## load PSFs"
   ]
  },
  {
   "cell_type": "code",
   "execution_count": 4,
   "metadata": {},
   "outputs": [],
   "source": [
    "folder_PSF = 'PSF/'\n",
    "folder_cutouts = 'cutouts_DDU/'\n",
    "filters = ['F555W','F814W','F090W','F150W','F160W','F277W']"
   ]
  },
  {
   "cell_type": "code",
   "execution_count": 5,
   "metadata": {},
   "outputs": [
    {
     "name": "stderr",
     "output_type": "stream",
     "text": [
      "[sphot] INFO: loading PSFs (<module>)\n"
     ]
    }
   ],
   "source": [
    "# load PSFs\n",
    "logger.info('loading PSFs')\n",
    "psfs_data = []\n",
    "for filtername in filters:\n",
    "    path = glob.glob(folder_PSF + f'*{filtername}_PSF*.npy')[0]\n",
    "    psfs_data.append(np.load(path))#\n",
    "PSFs_dict = dict(zip(filters, psfs_data))"
   ]
  },
  {
   "cell_type": "markdown",
   "metadata": {},
   "source": [
    "## load cutouts"
   ]
  },
  {
   "cell_type": "code",
   "execution_count": 7,
   "metadata": {},
   "outputs": [
    {
     "name": "stdout",
     "output_type": "stream",
     "text": [
      "g226\n"
     ]
    }
   ],
   "source": [
    "# filepath = cutouts[i]\n",
    "filepath =  'cutouts_DDU/g226.h5'\n",
    "galaxy_ID = os.path.splitext(os.path.split(filepath)[-1])[0]\n",
    "print(galaxy_ID)"
   ]
  },
  {
   "cell_type": "code",
   "execution_count": 9,
   "metadata": {},
   "outputs": [],
   "source": [
    "galaxy = MultiBandCutout(name = galaxy_ID)\n",
    "\n",
    "with h5py.File(filepath,'r') as f:\n",
    "    for filtername in filters:\n",
    "        image = f[filtername][:]\n",
    "        psf = PSFs_dict[filtername]\n",
    "        cutoutdata = CutoutData(data = image, \n",
    "                                psf = psf,\n",
    "                                psf_oversample = 4,\n",
    "                                filtername = filtername)\n",
    "        galaxy.add_image(filtername, cutoutdata)\n",
    "    f.close()"
   ]
  },
  {
   "cell_type": "code",
   "execution_count": null,
   "metadata": {},
   "outputs": [],
   "source": [
    "x"
   ]
  }
 ],
 "metadata": {
  "kernelspec": {
   "display_name": "Python 3",
   "language": "python",
   "name": "python3"
  },
  "language_info": {
   "codemirror_mode": {
    "name": "ipython",
    "version": 3
   },
   "file_extension": ".py",
   "mimetype": "text/x-python",
   "name": "python",
   "nbconvert_exporter": "python",
   "pygments_lexer": "ipython3",
   "version": "3.11.5"
  }
 },
 "nbformat": 4,
 "nbformat_minor": 2
}
