{
 "cells": [
  {
   "cell_type": "code",
   "execution_count": 1,
   "metadata": {},
   "outputs": [],
   "source": [
    "from astropy.table import Table, join\n",
    "import numpy as np\n",
    "from astropy.coordinates import SkyCoord, match_coordinates_sky\n"
   ]
  },
  {
   "cell_type": "code",
   "execution_count": 2,
   "metadata": {},
   "outputs": [
    {
     "name": "stderr",
     "output_type": "stream",
     "text": [
      "WARNING: UnitsWarning: 'pixel^{-2}' did not parse as fits unit: Invalid character at col 6 If this is meant to be a custom unit, define it with 'u.def_unit'. To have it recognized inside a file reader or other code, enable it with 'u.add_enabled_units'. For details, see https://docs.astropy.org/en/latest/units/combining_and_defining.html [astropy.units.core]\n",
      "WARNING: UnitsWarning: 'seconds' did not parse as fits unit: At col 0, Unit 'seconds' not supported by the FITS standard.  If this is meant to be a custom unit, define it with 'u.def_unit'. To have it recognized inside a file reader or other code, enable it with 'u.add_enabled_units'. For details, see https://docs.astropy.org/en/latest/units/combining_and_defining.html [astropy.units.core]\n"
     ]
    }
   ],
   "source": [
    "photom_file = 'CEERS_v0.51.3_photom.fits'\n",
    "photz_file = 'CEERS_v0.51.3_photz_quantities.fits'\n",
    "galfit_file = 'ceers_v0.51_galfit.fits'\n",
    "barro_file = 'ceers_all_v0.51_eazy.hdf5'\n",
    "seplusfile = 'ceers_f200w_fmf_merged.fits'\n",
    "# vetted_z5_file = 'CEERS_v0.51_z4.5to5.5.cat'\n",
    "# vetted_z7_file = 'CEERS_v0.51_z5.5to8.5.cat'\n",
    "# vetted_z_gt8_file = 'CEERS_v0.51_z8.5to14_renamed.txt'\n",
    "\n",
    "# Read the general catalogs\n",
    "cat = Table.read(photom_file)\n",
    "photz = Table.read(photz_file)\n",
    "galfit = Table.read(galfit_file)\n",
    "barro = Table.read(barro_file)\n",
    "seplus = Table.read(seplusfile)"
   ]
  },
  {
   "cell_type": "code",
   "execution_count": 5,
   "metadata": {},
   "outputs": [
    {
     "data": {
      "text/plain": [
       "<TableColumns names=('ID','FIELD','CATID','RA','DEC','F200W_MAG','F200W_MAG_ERR','F200W_RE','F200W_RE_ERR','F200W_N','F200W_N_ERR','F200W_Q','F200W_Q_ERR','F200W_PA','F200W_PA_ERR','F200W_FLAG','F356W_MAG','F356W_MAG_ERR','F356W_RE','F356W_RE_ERR','F356W_N','F356W_N_ERR','F356W_Q','F356W_Q_ERR','F356W_PA','F356W_PA_ERR','F356W_FLAG')>"
      ]
     },
     "execution_count": 5,
     "metadata": {},
     "output_type": "execute_result"
    }
   ],
   "source": [
    "galfit.columns"
   ]
  },
  {
   "cell_type": "code",
   "execution_count": 4,
   "metadata": {},
   "outputs": [
    {
     "name": "stderr",
     "output_type": "stream",
     "text": [
      "/var/folders/hf/dh49zz3n1x5d1p_b4qn8g4z00000gn/T/ipykernel_66218/4068906225.py:18: RuntimeWarning: invalid value encountered in log10\n",
      "  return -2.5 * np.log10(nJy) + 31.4\n",
      "/var/folders/hf/dh49zz3n1x5d1p_b4qn8g4z00000gn/T/ipykernel_66218/4068906225.py:18: RuntimeWarning: divide by zero encountered in log10\n",
      "  return -2.5 * np.log10(nJy) + 31.4\n",
      "WARNING: MergeConflictWarning: Cannot merge meta key 'comments' types <class 'list'> and <class 'numpy.ndarray'>, choosing comments=array(['Photometric catalog file: eazyphot_ceers_all_v0.51_forFAST.cat',\n",
      "       'AB ZP:        31.40', 'Library:      Bruzual & Charlot (2003)',\n",
      "       'SFH:          Exponentially declining SFH: SFR ~ exp(-t/tau)',\n",
      "       'Stellar IMF:  Chabrier', 'metallicity:  0.020',\n",
      "       'log(tau/yr):  8.3    - 10.0, in steps of 0.20',\n",
      "       'log(age/yr):  7.6    - 10.1, in steps of 0.10',\n",
      "       'A_V:          0.0    -  4.0, in steps of 0.10',\n",
      "       'z:            0.0100 -  8.0000, in steps of 0.0100',\n",
      "       'Filters:     364 365 366 375 376 383 377   4   6 203 204 205',\n",
      "       'ltau: log[tau/yr], lage: log[age/yr], lmass: log[mass/Msol], lsfr: log[sfr/(Msol/yr)], lssfr: log[ssfr*yr], la2t: log[age/tau]',\n",
      "       'For sfr=0. lsfr is set to -99',\n",
      "       'id         z      ltau     metal      lage        Av     lmass      lsfr     lssfr      la2t      chi2'],\n",
      "      dtype=object) [astropy.utils.metadata]\n"
     ]
    }
   ],
   "source": [
    "# Read the general catalogs\n",
    "cat = Table.read(photom_file)\n",
    "photz = Table.read(photz_file)\n",
    "galfit = Table.read(galfit_file)\n",
    "barro = Table.read(barro_file)\n",
    "seplus = Table.read(seplusfile)\n",
    "\n",
    "def AB(nJy):\n",
    "    return -2.5 * np.log10(nJy) + 31.4\n",
    "\n",
    "# Add columns for ab mag and S/N\n",
    "bands = ['115','150','200','277','356','410','444','606','814','105','125','160']\n",
    "for b in bands:\n",
    "    cat[f\"AB{b}\"] = AB(cat[f\"FLUX_{b}\"])\n",
    "    cat[f\"SN{b}\"] = cat[f\"FLUX_{b}\"]/cat[f\"FLUXERR_{b}\"]\n",
    "\n",
    "# Add columns for probability integral in dz=1 intervals\n",
    "# Add ID column to photoz catalog\n",
    "zl = [3,4,5,6,7,8,9,10,11,12,13,14]\n",
    "for z in zl:\n",
    "    photz[f\"INT_PZ{z}_{z+1}\"] = photz[f\"INT_ZGT{z}\"] - photz[f\"INT_ZGT{z+1}\"]\n",
    "photz['INT_PZ8_10'] = photz[\"INT_ZGT8\"] - photz[\"INT_ZGT10\"]\n",
    "photz['ID'] = np.arange(len(photz))+1\n",
    "photz['Z68_range'] = photz['ZU68'] - photz['ZL68']\n",
    "\n",
    "# Add selection columns to barro catalog\n",
    "barro['z4-5'] = (barro['z160'] > 4.0) & (barro['z840']<=5.0)\n",
    "barro['z5-6'] = (barro['z160'] > 5.0) & (barro['z840']<=6.0)\n",
    "barro['z6-7'] = (barro['z160'] > 6.0) & (barro['z840']<=7.0)\n",
    "barro['z7-8'] = (barro['z160'] > 7.0) & (barro['z840']<=8.0)\n",
    "barro['z8-10'] = (barro['z160'] > 8.0) & (barro['z840']<=10.0)\n",
    "barro['zGT10'] = (barro['z160'] > 10.0)\n",
    "barro['zphot_range'] = barro['z840'] - barro['z160']\n",
    "\n",
    "# prepend an identifier on the columns of catalogs that Steve didn't make\n",
    "for c in galfit.colnames:\n",
    "    if c != 'ID':\n",
    "        galfit.rename_column(c,f\"galfit_{c}\")\n",
    "for c in barro.colnames:\n",
    "    if c != 'ID':\n",
    "        barro.rename_column(c,f\"barro_{c}\")\n",
    "for c in seplus.colnames:\n",
    "    if c != 'ID':\n",
    "        seplus.rename_column(c,f\"seplus_{c}\")\n",
    "\n",
    "# Join the catalogs\n",
    "j1 = join(cat,photz,keys='ID')\n",
    "j2 = join(j1,galfit,keys='ID')\n",
    "j3 = join(j2,barro,keys='ID')\n",
    "\n",
    "# Position-match to SE++ catalog\n",
    "j3['coords'] = SkyCoord(j3['RA'],j3['DEC'],unit=('deg','deg'),frame='icrs')\n",
    "seplus['coords'] = SkyCoord(seplus['seplus_world_centroid_alpha'],\n",
    "                            seplus['seplus_world_centroid_delta'],unit=('deg','deg'),frame='icrs')\n",
    "# idx are the indices in seplus that are the closest match to each source in j3\n",
    "idx, d2d, d3d = match_coordinates_sky(j3['coords'], seplus['coords']) \n",
    "j3['seplus_idx'] = idx\n",
    "j3['seplus_sep'] = d2d.to('arcsec')\n",
    "\n",
    "# Now remove the skycoord column, because doesn't save to HDF5 (I think)\n",
    "j3.remove_column('coords')"
   ]
  },
  {
   "cell_type": "code",
   "execution_count": 9,
   "metadata": {},
   "outputs": [
    {
     "ename": "OSError",
     "evalue": "File merged_v0.51_catalog.fits already exists. If you mean to replace it then use the argument \"overwrite=True\".",
     "output_type": "error",
     "traceback": [
      "\u001b[0;31m---------------------------------------------------------------------------\u001b[0m",
      "\u001b[0;31mOSError\u001b[0m                                   Traceback (most recent call last)",
      "\u001b[1;32m/Users/sterling/Dropbox/projects/galaxy_photometry/ceers/merge_tables.ipynb Cell 4\u001b[0m line \u001b[0;36m2\n\u001b[1;32m      <a href='vscode-notebook-cell:/Users/sterling/Dropbox/projects/galaxy_photometry/ceers/merge_tables.ipynb#W4sZmlsZQ%3D%3D?line=0'>1</a>\u001b[0m \u001b[39m# Write out the files\u001b[39;00m\n\u001b[0;32m----> <a href='vscode-notebook-cell:/Users/sterling/Dropbox/projects/galaxy_photometry/ceers/merge_tables.ipynb#W4sZmlsZQ%3D%3D?line=1'>2</a>\u001b[0m j3\u001b[39m.\u001b[39;49mwrite(\u001b[39m'\u001b[39;49m\u001b[39mmerged_v0.51_catalog.fits\u001b[39;49m\u001b[39m'\u001b[39;49m)\u001b[39m#,serialize_meta=True,overwrite=True)\u001b[39;00m\n",
      "File \u001b[0;32m~/miniconda3/envs/py311/lib/python3.11/site-packages/astropy/table/connect.py:130\u001b[0m, in \u001b[0;36mTableWrite.__call__\u001b[0;34m(self, serialize_method, *args, **kwargs)\u001b[0m\n\u001b[1;32m    128\u001b[0m instance \u001b[39m=\u001b[39m \u001b[39mself\u001b[39m\u001b[39m.\u001b[39m_instance\n\u001b[1;32m    129\u001b[0m \u001b[39mwith\u001b[39;00m serialize_method_as(instance, serialize_method):\n\u001b[0;32m--> 130\u001b[0m     \u001b[39mself\u001b[39;49m\u001b[39m.\u001b[39;49mregistry\u001b[39m.\u001b[39;49mwrite(instance, \u001b[39m*\u001b[39;49margs, \u001b[39m*\u001b[39;49m\u001b[39m*\u001b[39;49mkwargs)\n",
      "File \u001b[0;32m~/miniconda3/envs/py311/lib/python3.11/site-packages/astropy/io/registry/core.py:383\u001b[0m, in \u001b[0;36mUnifiedOutputRegistry.write\u001b[0;34m(self, data, format, *args, **kwargs)\u001b[0m\n\u001b[1;32m    378\u001b[0m     \u001b[39mformat\u001b[39m \u001b[39m=\u001b[39m \u001b[39mself\u001b[39m\u001b[39m.\u001b[39m_get_valid_format(\n\u001b[1;32m    379\u001b[0m         \u001b[39m\"\u001b[39m\u001b[39mwrite\u001b[39m\u001b[39m\"\u001b[39m, data\u001b[39m.\u001b[39m\u001b[39m__class__\u001b[39m, path, fileobj, args, kwargs\n\u001b[1;32m    380\u001b[0m     )\n\u001b[1;32m    382\u001b[0m writer \u001b[39m=\u001b[39m \u001b[39mself\u001b[39m\u001b[39m.\u001b[39mget_writer(\u001b[39mformat\u001b[39m, data\u001b[39m.\u001b[39m\u001b[39m__class__\u001b[39m)\n\u001b[0;32m--> 383\u001b[0m \u001b[39mreturn\u001b[39;00m writer(data, \u001b[39m*\u001b[39;49margs, \u001b[39m*\u001b[39;49m\u001b[39m*\u001b[39;49mkwargs)\n",
      "File \u001b[0;32m~/miniconda3/envs/py311/lib/python3.11/site-packages/astropy/io/fits/connect.py:442\u001b[0m, in \u001b[0;36mwrite_table_fits\u001b[0;34m(input, output, overwrite, append)\u001b[0m\n\u001b[1;32m    440\u001b[0m         os\u001b[39m.\u001b[39mremove(output)\n\u001b[1;32m    441\u001b[0m     \u001b[39melif\u001b[39;00m \u001b[39mnot\u001b[39;00m append:\n\u001b[0;32m--> 442\u001b[0m         \u001b[39mraise\u001b[39;00m \u001b[39mOSError\u001b[39;00m(NOT_OVERWRITING_MSG\u001b[39m.\u001b[39mformat(output))\n\u001b[1;32m    444\u001b[0m \u001b[39mif\u001b[39;00m append:\n\u001b[1;32m    445\u001b[0m     \u001b[39m# verify=False stops it reading and checking the existing file.\u001b[39;00m\n\u001b[1;32m    446\u001b[0m     fits_append(output, table_hdu\u001b[39m.\u001b[39mdata, table_hdu\u001b[39m.\u001b[39mheader, verify\u001b[39m=\u001b[39m\u001b[39mFalse\u001b[39;00m)\n",
      "\u001b[0;31mOSError\u001b[0m: File merged_v0.51_catalog.fits already exists. If you mean to replace it then use the argument \"overwrite=True\"."
     ]
    }
   ],
   "source": [
    "# Write out the files\n",
    "j3.write('merged_v0.51_catalog.fits')#,serialize_meta=True,overwrite=True)\n"
   ]
  },
  {
   "cell_type": "code",
   "execution_count": null,
   "metadata": {},
   "outputs": [],
   "source": []
  }
 ],
 "metadata": {
  "kernelspec": {
   "display_name": "Python 3",
   "language": "python",
   "name": "python3"
  },
  "language_info": {
   "codemirror_mode": {
    "name": "ipython",
    "version": 3
   },
   "file_extension": ".py",
   "mimetype": "text/x-python",
   "name": "python",
   "nbconvert_exporter": "python",
   "pygments_lexer": "ipython3",
   "version": "3.11.5"
  }
 },
 "nbformat": 4,
 "nbformat_minor": 2
}
