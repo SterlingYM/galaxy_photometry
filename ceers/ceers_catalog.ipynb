{
 "cells": [
  {
   "cell_type": "code",
   "execution_count": 13,
   "metadata": {},
   "outputs": [],
   "source": [
    "import numpy as np\n",
    "import matplotlib.pyplot as plt\n",
    "import os"
   ]
  },
  {
   "cell_type": "code",
   "execution_count": 14,
   "metadata": {},
   "outputs": [
    {
     "ename": "YamlParseError",
     "evalue": "",
     "output_type": "error",
     "traceback": [
      "\u001b[0;31m---------------------------------------------------------------------------\u001b[0m",
      "\u001b[0;31mTypeError\u001b[0m                                 Traceback (most recent call last)",
      "File \u001b[0;32m~/miniconda3/envs/py311/lib/python3.11/site-packages/astropy/table/meta.py:431\u001b[0m, in \u001b[0;36mget_header_from_yaml\u001b[0;34m(lines)\u001b[0m\n\u001b[1;32m    430\u001b[0m \u001b[39mtry\u001b[39;00m:\n\u001b[0;32m--> 431\u001b[0m     header \u001b[39m=\u001b[39m yaml\u001b[39m.\u001b[39;49mload(header_yaml, Loader\u001b[39m=\u001b[39;49mTableLoader)\n\u001b[1;32m    432\u001b[0m \u001b[39mexcept\u001b[39;00m \u001b[39mException\u001b[39;00m \u001b[39mas\u001b[39;00m err:\n",
      "File \u001b[0;32m~/miniconda3/envs/py311/lib/python3.11/site-packages/yaml/__init__.py:81\u001b[0m, in \u001b[0;36mload\u001b[0;34m(stream, Loader)\u001b[0m\n\u001b[1;32m     80\u001b[0m \u001b[39mtry\u001b[39;00m:\n\u001b[0;32m---> 81\u001b[0m     \u001b[39mreturn\u001b[39;00m loader\u001b[39m.\u001b[39;49mget_single_data()\n\u001b[1;32m     82\u001b[0m \u001b[39mfinally\u001b[39;00m:\n",
      "File \u001b[0;32m~/miniconda3/envs/py311/lib/python3.11/site-packages/yaml/constructor.py:51\u001b[0m, in \u001b[0;36mBaseConstructor.get_single_data\u001b[0;34m(self)\u001b[0m\n\u001b[1;32m     50\u001b[0m \u001b[39mif\u001b[39;00m node \u001b[39mis\u001b[39;00m \u001b[39mnot\u001b[39;00m \u001b[39mNone\u001b[39;00m:\n\u001b[0;32m---> 51\u001b[0m     \u001b[39mreturn\u001b[39;00m \u001b[39mself\u001b[39;49m\u001b[39m.\u001b[39;49mconstruct_document(node)\n\u001b[1;32m     52\u001b[0m \u001b[39mreturn\u001b[39;00m \u001b[39mNone\u001b[39;00m\n",
      "File \u001b[0;32m~/miniconda3/envs/py311/lib/python3.11/site-packages/yaml/constructor.py:60\u001b[0m, in \u001b[0;36mBaseConstructor.construct_document\u001b[0;34m(self, node)\u001b[0m\n\u001b[1;32m     59\u001b[0m \u001b[39mfor\u001b[39;00m generator \u001b[39min\u001b[39;00m state_generators:\n\u001b[0;32m---> 60\u001b[0m     \u001b[39mfor\u001b[39;49;00m dummy \u001b[39min\u001b[39;49;00m generator:\n\u001b[1;32m     61\u001b[0m         \u001b[39mpass\u001b[39;49;00m\n",
      "File \u001b[0;32m~/miniconda3/envs/py311/lib/python3.11/site-packages/astropy/table/meta.py:108\u001b[0m, in \u001b[0;36m_construct_odict\u001b[0;34m(load, node)\u001b[0m\n\u001b[1;32m    107\u001b[0m key \u001b[39m=\u001b[39m load\u001b[39m.\u001b[39mconstruct_object(key_node)\n\u001b[0;32m--> 108\u001b[0m value \u001b[39m=\u001b[39m load\u001b[39m.\u001b[39;49mconstruct_object(value_node)\n\u001b[1;32m    109\u001b[0m omap[key] \u001b[39m=\u001b[39m value\n",
      "File \u001b[0;32m~/miniconda3/envs/py311/lib/python3.11/site-packages/yaml/constructor.py:100\u001b[0m, in \u001b[0;36mBaseConstructor.construct_object\u001b[0;34m(self, node, deep)\u001b[0m\n\u001b[1;32m     99\u001b[0m \u001b[39mif\u001b[39;00m tag_suffix \u001b[39mis\u001b[39;00m \u001b[39mNone\u001b[39;00m:\n\u001b[0;32m--> 100\u001b[0m     data \u001b[39m=\u001b[39m constructor(\u001b[39mself\u001b[39;49m, node)\n\u001b[1;32m    101\u001b[0m \u001b[39melse\u001b[39;00m:\n",
      "File \u001b[0;32m~/miniconda3/envs/py311/lib/python3.11/site-packages/astropy/io/misc/yaml.py:146\u001b[0m, in \u001b[0;36m_ndarray_constructor\u001b[0;34m(loader, node)\u001b[0m\n\u001b[1;32m    145\u001b[0m \u001b[39mif\u001b[39;00m \u001b[39mmap\u001b[39m[\u001b[39m\"\u001b[39m\u001b[39mdtype\u001b[39m\u001b[39m\"\u001b[39m] \u001b[39m==\u001b[39m \u001b[39m\"\u001b[39m\u001b[39mobject\u001b[39m\u001b[39m\"\u001b[39m:\n\u001b[0;32m--> 146\u001b[0m     \u001b[39mraise\u001b[39;00m \u001b[39mTypeError\u001b[39;00m(\u001b[39m\"\u001b[39m\u001b[39mcannot load numpy array with dtype object\u001b[39m\u001b[39m\"\u001b[39m)\n\u001b[1;32m    147\u001b[0m \u001b[39mreturn\u001b[39;00m np\u001b[39m.\u001b[39mndarray(\u001b[39m*\u001b[39m\u001b[39m*\u001b[39m\u001b[39mmap\u001b[39m)\n",
      "\u001b[0;31mTypeError\u001b[0m: cannot load numpy array with dtype object",
      "\nThe above exception was the direct cause of the following exception:\n",
      "\u001b[0;31mYamlParseError\u001b[0m                            Traceback (most recent call last)",
      "\u001b[1;32m/Users/sterling/Dropbox/projects/galaxy_photometry/ceers_catalog.ipynb Cell 2\u001b[0m line \u001b[0;36m5\n\u001b[1;32m      <a href='vscode-notebook-cell:/Users/sterling/Dropbox/projects/galaxy_photometry/ceers_catalog.ipynb#W4sZmlsZQ%3D%3D?line=1'>2</a>\u001b[0m filepath \u001b[39m=\u001b[39m \u001b[39m'\u001b[39m\u001b[39mceers/merged_v0.51_catalog.hdf5\u001b[39m\u001b[39m'\u001b[39m\n\u001b[1;32m      <a href='vscode-notebook-cell:/Users/sterling/Dropbox/projects/galaxy_photometry/ceers_catalog.ipynb#W4sZmlsZQ%3D%3D?line=3'>4</a>\u001b[0m \u001b[39massert\u001b[39;00m os\u001b[39m.\u001b[39mpath\u001b[39m.\u001b[39mexists(filepath)\n\u001b[0;32m----> <a href='vscode-notebook-cell:/Users/sterling/Dropbox/projects/galaxy_photometry/ceers_catalog.ipynb#W4sZmlsZQ%3D%3D?line=4'>5</a>\u001b[0m Table\u001b[39m.\u001b[39;49mread(filepath)\n",
      "File \u001b[0;32m~/miniconda3/envs/py311/lib/python3.11/site-packages/astropy/table/connect.py:62\u001b[0m, in \u001b[0;36mTableRead.__call__\u001b[0;34m(self, *args, **kwargs)\u001b[0m\n\u001b[1;32m     59\u001b[0m units \u001b[39m=\u001b[39m kwargs\u001b[39m.\u001b[39mpop(\u001b[39m\"\u001b[39m\u001b[39munits\u001b[39m\u001b[39m\"\u001b[39m, \u001b[39mNone\u001b[39;00m)\n\u001b[1;32m     60\u001b[0m descriptions \u001b[39m=\u001b[39m kwargs\u001b[39m.\u001b[39mpop(\u001b[39m\"\u001b[39m\u001b[39mdescriptions\u001b[39m\u001b[39m\"\u001b[39m, \u001b[39mNone\u001b[39;00m)\n\u001b[0;32m---> 62\u001b[0m out \u001b[39m=\u001b[39m \u001b[39mself\u001b[39;49m\u001b[39m.\u001b[39;49mregistry\u001b[39m.\u001b[39;49mread(\u001b[39mcls\u001b[39;49m, \u001b[39m*\u001b[39;49margs, \u001b[39m*\u001b[39;49m\u001b[39m*\u001b[39;49mkwargs)\n\u001b[1;32m     64\u001b[0m \u001b[39m# For some readers (e.g., ascii.ecsv), the returned `out` class is not\u001b[39;00m\n\u001b[1;32m     65\u001b[0m \u001b[39m# guaranteed to be the same as the desired output `cls`.  If so,\u001b[39;00m\n\u001b[1;32m     66\u001b[0m \u001b[39m# try coercing to desired class without copying (io.registry.read\u001b[39;00m\n\u001b[1;32m     67\u001b[0m \u001b[39m# would normally do a copy).  The normal case here is swapping\u001b[39;00m\n\u001b[1;32m     68\u001b[0m \u001b[39m# Table <=> QTable.\u001b[39;00m\n\u001b[1;32m     69\u001b[0m \u001b[39mif\u001b[39;00m \u001b[39mcls\u001b[39m \u001b[39mis\u001b[39;00m \u001b[39mnot\u001b[39;00m out\u001b[39m.\u001b[39m\u001b[39m__class__\u001b[39m:\n",
      "File \u001b[0;32m~/miniconda3/envs/py311/lib/python3.11/site-packages/astropy/io/registry/core.py:218\u001b[0m, in \u001b[0;36mUnifiedInputRegistry.read\u001b[0;34m(self, cls, format, cache, *args, **kwargs)\u001b[0m\n\u001b[1;32m    213\u001b[0m     \u001b[39mformat\u001b[39m \u001b[39m=\u001b[39m \u001b[39mself\u001b[39m\u001b[39m.\u001b[39m_get_valid_format(\n\u001b[1;32m    214\u001b[0m         \u001b[39m\"\u001b[39m\u001b[39mread\u001b[39m\u001b[39m\"\u001b[39m, \u001b[39mcls\u001b[39m, path, fileobj, args, kwargs\n\u001b[1;32m    215\u001b[0m     )\n\u001b[1;32m    217\u001b[0m reader \u001b[39m=\u001b[39m \u001b[39mself\u001b[39m\u001b[39m.\u001b[39mget_reader(\u001b[39mformat\u001b[39m, \u001b[39mcls\u001b[39m)\n\u001b[0;32m--> 218\u001b[0m data \u001b[39m=\u001b[39m reader(\u001b[39m*\u001b[39;49margs, \u001b[39m*\u001b[39;49m\u001b[39m*\u001b[39;49mkwargs)\n\u001b[1;32m    220\u001b[0m \u001b[39mif\u001b[39;00m \u001b[39mnot\u001b[39;00m \u001b[39misinstance\u001b[39m(data, \u001b[39mcls\u001b[39m):\n\u001b[1;32m    221\u001b[0m     \u001b[39m# User has read with a subclass where only the parent class is\u001b[39;00m\n\u001b[1;32m    222\u001b[0m     \u001b[39m# registered.  This returns the parent class, so try coercing\u001b[39;00m\n\u001b[1;32m    223\u001b[0m     \u001b[39m# to desired subclass.\u001b[39;00m\n\u001b[1;32m    224\u001b[0m     \u001b[39mtry\u001b[39;00m:\n",
      "File \u001b[0;32m~/miniconda3/envs/py311/lib/python3.11/site-packages/astropy/io/misc/hdf5.py:142\u001b[0m, in \u001b[0;36mread_table_hdf5\u001b[0;34m(input, path, character_as_bytes)\u001b[0m\n\u001b[1;32m    139\u001b[0m f \u001b[39m=\u001b[39m h5py\u001b[39m.\u001b[39mFile(\u001b[39minput\u001b[39m, \u001b[39m\"\u001b[39m\u001b[39mr\u001b[39m\u001b[39m\"\u001b[39m)\n\u001b[1;32m    141\u001b[0m \u001b[39mtry\u001b[39;00m:\n\u001b[0;32m--> 142\u001b[0m     \u001b[39mreturn\u001b[39;00m read_table_hdf5(f, path\u001b[39m=\u001b[39;49mpath, character_as_bytes\u001b[39m=\u001b[39;49mcharacter_as_bytes)\n\u001b[1;32m    143\u001b[0m \u001b[39mfinally\u001b[39;00m:\n\u001b[1;32m    144\u001b[0m     f\u001b[39m.\u001b[39mclose()\n",
      "File \u001b[0;32m~/miniconda3/envs/py311/lib/python3.11/site-packages/astropy/io/misc/hdf5.py:124\u001b[0m, in \u001b[0;36mread_table_hdf5\u001b[0;34m(input, path, character_as_bytes)\u001b[0m\n\u001b[1;32m    117\u001b[0m             \u001b[39mif\u001b[39;00m \u001b[39mlen\u001b[39m(arrays) \u001b[39m>\u001b[39m \u001b[39m1\u001b[39m:\n\u001b[1;32m    118\u001b[0m                 warnings\u001b[39m.\u001b[39mwarn(\n\u001b[1;32m    119\u001b[0m                     \u001b[39m\"\u001b[39m\u001b[39mpath= was not specified but multiple tables\u001b[39m\u001b[39m\"\u001b[39m\n\u001b[1;32m    120\u001b[0m                     \u001b[39m\"\u001b[39m\u001b[39m are present, reading in first available\u001b[39m\u001b[39m\"\u001b[39m\n\u001b[1;32m    121\u001b[0m                     \u001b[39mf\u001b[39m\u001b[39m\"\u001b[39m\u001b[39m table (path=\u001b[39m\u001b[39m{\u001b[39;00mpath\u001b[39m}\u001b[39;00m\u001b[39m)\u001b[39m\u001b[39m\"\u001b[39m,\n\u001b[1;32m    122\u001b[0m                     AstropyUserWarning,\n\u001b[1;32m    123\u001b[0m                 )\n\u001b[0;32m--> 124\u001b[0m             \u001b[39mreturn\u001b[39;00m read_table_hdf5(\u001b[39minput\u001b[39;49m, path\u001b[39m=\u001b[39;49mpath)\n\u001b[1;32m    126\u001b[0m \u001b[39melif\u001b[39;00m \u001b[39mnot\u001b[39;00m \u001b[39misinstance\u001b[39m(\u001b[39minput\u001b[39m, h5py\u001b[39m.\u001b[39mDataset):\n\u001b[1;32m    127\u001b[0m     \u001b[39m# If a file object was passed, then we need to extract the filename\u001b[39;00m\n\u001b[1;32m    128\u001b[0m     \u001b[39m# because h5py cannot properly read in file objects.\u001b[39;00m\n\u001b[1;32m    130\u001b[0m     \u001b[39mif\u001b[39;00m \u001b[39mhasattr\u001b[39m(\u001b[39minput\u001b[39m, \u001b[39m\"\u001b[39m\u001b[39mread\u001b[39m\u001b[39m\"\u001b[39m):\n",
      "File \u001b[0;32m~/miniconda3/envs/py311/lib/python3.11/site-packages/astropy/io/misc/hdf5.py:163\u001b[0m, in \u001b[0;36mread_table_hdf5\u001b[0;34m(input, path, character_as_bytes)\u001b[0m\n\u001b[1;32m    161\u001b[0m \u001b[39mif\u001b[39;00m old_version_meta \u001b[39mor\u001b[39;00m new_version_meta:\n\u001b[1;32m    162\u001b[0m     \u001b[39mif\u001b[39;00m new_version_meta:\n\u001b[0;32m--> 163\u001b[0m         header \u001b[39m=\u001b[39m meta\u001b[39m.\u001b[39;49mget_header_from_yaml(\n\u001b[1;32m    164\u001b[0m             h\u001b[39m.\u001b[39;49mdecode(\u001b[39m\"\u001b[39;49m\u001b[39mutf-8\u001b[39;49m\u001b[39m\"\u001b[39;49m) \u001b[39mfor\u001b[39;49;00m h \u001b[39min\u001b[39;49;00m input_save[meta_path(path)]\n\u001b[1;32m    165\u001b[0m         )\n\u001b[1;32m    166\u001b[0m     \u001b[39melse\u001b[39;00m:\n\u001b[1;32m    167\u001b[0m         \u001b[39m# Must be old_version_meta is True. if (A or B) and not A then B is True\u001b[39;00m\n\u001b[1;32m    168\u001b[0m         header \u001b[39m=\u001b[39m meta\u001b[39m.\u001b[39mget_header_from_yaml(\n\u001b[1;32m    169\u001b[0m             h\u001b[39m.\u001b[39mdecode(\u001b[39m\"\u001b[39m\u001b[39mutf-8\u001b[39m\u001b[39m\"\u001b[39m) \u001b[39mfor\u001b[39;00m h \u001b[39min\u001b[39;00m \u001b[39minput\u001b[39m\u001b[39m.\u001b[39mattrs[META_KEY]\n\u001b[1;32m    170\u001b[0m         )\n",
      "File \u001b[0;32m~/miniconda3/envs/py311/lib/python3.11/site-packages/astropy/table/meta.py:433\u001b[0m, in \u001b[0;36mget_header_from_yaml\u001b[0;34m(lines)\u001b[0m\n\u001b[1;32m    431\u001b[0m     header \u001b[39m=\u001b[39m yaml\u001b[39m.\u001b[39mload(header_yaml, Loader\u001b[39m=\u001b[39mTableLoader)\n\u001b[1;32m    432\u001b[0m \u001b[39mexcept\u001b[39;00m \u001b[39mException\u001b[39;00m \u001b[39mas\u001b[39;00m err:\n\u001b[0;32m--> 433\u001b[0m     \u001b[39mraise\u001b[39;00m YamlParseError() \u001b[39mfrom\u001b[39;00m \u001b[39merr\u001b[39;00m\n\u001b[1;32m    435\u001b[0m \u001b[39mreturn\u001b[39;00m header\n",
      "\u001b[0;31mYamlParseError\u001b[0m: "
     ]
    }
   ],
   "source": [
    "from astropy.table import Table\n",
    "filepath = 'ceers/merged_v0.51_catalog.hdf5'\n",
    "\n",
    "assert os.path.exists(filepath)\n",
    "Table.read(filepath)"
   ]
  },
  {
   "cell_type": "code",
   "execution_count": 16,
   "metadata": {},
   "outputs": [
    {
     "data": {
      "text/plain": [
       "1.7320508075688772"
      ]
     },
     "execution_count": 16,
     "metadata": {},
     "output_type": "execute_result"
    }
   ],
   "source": [
    "np.sqrt(3)"
   ]
  },
  {
   "cell_type": "code",
   "execution_count": 12,
   "metadata": {},
   "outputs": [
    {
     "ename": "YamlParseError",
     "evalue": "",
     "output_type": "error",
     "traceback": [
      "\u001b[0;31m---------------------------------------------------------------------------\u001b[0m",
      "\u001b[0;31mTypeError\u001b[0m                                 Traceback (most recent call last)",
      "File \u001b[0;32m~/miniconda3/envs/py311/lib/python3.11/site-packages/astropy/table/meta.py:431\u001b[0m, in \u001b[0;36mget_header_from_yaml\u001b[0;34m(lines)\u001b[0m\n\u001b[1;32m    430\u001b[0m \u001b[39mtry\u001b[39;00m:\n\u001b[0;32m--> 431\u001b[0m     header \u001b[39m=\u001b[39m yaml\u001b[39m.\u001b[39;49mload(header_yaml, Loader\u001b[39m=\u001b[39;49mTableLoader)\n\u001b[1;32m    432\u001b[0m \u001b[39mexcept\u001b[39;00m \u001b[39mException\u001b[39;00m \u001b[39mas\u001b[39;00m err:\n",
      "File \u001b[0;32m~/miniconda3/envs/py311/lib/python3.11/site-packages/yaml/__init__.py:81\u001b[0m, in \u001b[0;36mload\u001b[0;34m(stream, Loader)\u001b[0m\n\u001b[1;32m     80\u001b[0m \u001b[39mtry\u001b[39;00m:\n\u001b[0;32m---> 81\u001b[0m     \u001b[39mreturn\u001b[39;00m loader\u001b[39m.\u001b[39;49mget_single_data()\n\u001b[1;32m     82\u001b[0m \u001b[39mfinally\u001b[39;00m:\n",
      "File \u001b[0;32m~/miniconda3/envs/py311/lib/python3.11/site-packages/yaml/constructor.py:51\u001b[0m, in \u001b[0;36mBaseConstructor.get_single_data\u001b[0;34m(self)\u001b[0m\n\u001b[1;32m     50\u001b[0m \u001b[39mif\u001b[39;00m node \u001b[39mis\u001b[39;00m \u001b[39mnot\u001b[39;00m \u001b[39mNone\u001b[39;00m:\n\u001b[0;32m---> 51\u001b[0m     \u001b[39mreturn\u001b[39;00m \u001b[39mself\u001b[39;49m\u001b[39m.\u001b[39;49mconstruct_document(node)\n\u001b[1;32m     52\u001b[0m \u001b[39mreturn\u001b[39;00m \u001b[39mNone\u001b[39;00m\n",
      "File \u001b[0;32m~/miniconda3/envs/py311/lib/python3.11/site-packages/yaml/constructor.py:60\u001b[0m, in \u001b[0;36mBaseConstructor.construct_document\u001b[0;34m(self, node)\u001b[0m\n\u001b[1;32m     59\u001b[0m \u001b[39mfor\u001b[39;00m generator \u001b[39min\u001b[39;00m state_generators:\n\u001b[0;32m---> 60\u001b[0m     \u001b[39mfor\u001b[39;49;00m dummy \u001b[39min\u001b[39;49;00m generator:\n\u001b[1;32m     61\u001b[0m         \u001b[39mpass\u001b[39;49;00m\n",
      "File \u001b[0;32m~/miniconda3/envs/py311/lib/python3.11/site-packages/astropy/table/meta.py:108\u001b[0m, in \u001b[0;36m_construct_odict\u001b[0;34m(load, node)\u001b[0m\n\u001b[1;32m    107\u001b[0m key \u001b[39m=\u001b[39m load\u001b[39m.\u001b[39mconstruct_object(key_node)\n\u001b[0;32m--> 108\u001b[0m value \u001b[39m=\u001b[39m load\u001b[39m.\u001b[39;49mconstruct_object(value_node)\n\u001b[1;32m    109\u001b[0m omap[key] \u001b[39m=\u001b[39m value\n",
      "File \u001b[0;32m~/miniconda3/envs/py311/lib/python3.11/site-packages/yaml/constructor.py:100\u001b[0m, in \u001b[0;36mBaseConstructor.construct_object\u001b[0;34m(self, node, deep)\u001b[0m\n\u001b[1;32m     99\u001b[0m \u001b[39mif\u001b[39;00m tag_suffix \u001b[39mis\u001b[39;00m \u001b[39mNone\u001b[39;00m:\n\u001b[0;32m--> 100\u001b[0m     data \u001b[39m=\u001b[39m constructor(\u001b[39mself\u001b[39;49m, node)\n\u001b[1;32m    101\u001b[0m \u001b[39melse\u001b[39;00m:\n",
      "File \u001b[0;32m~/miniconda3/envs/py311/lib/python3.11/site-packages/astropy/io/misc/yaml.py:146\u001b[0m, in \u001b[0;36m_ndarray_constructor\u001b[0;34m(loader, node)\u001b[0m\n\u001b[1;32m    145\u001b[0m \u001b[39mif\u001b[39;00m \u001b[39mmap\u001b[39m[\u001b[39m\"\u001b[39m\u001b[39mdtype\u001b[39m\u001b[39m\"\u001b[39m] \u001b[39m==\u001b[39m \u001b[39m\"\u001b[39m\u001b[39mobject\u001b[39m\u001b[39m\"\u001b[39m:\n\u001b[0;32m--> 146\u001b[0m     \u001b[39mraise\u001b[39;00m \u001b[39mTypeError\u001b[39;00m(\u001b[39m\"\u001b[39m\u001b[39mcannot load numpy array with dtype object\u001b[39m\u001b[39m\"\u001b[39m)\n\u001b[1;32m    147\u001b[0m \u001b[39mreturn\u001b[39;00m np\u001b[39m.\u001b[39mndarray(\u001b[39m*\u001b[39m\u001b[39m*\u001b[39m\u001b[39mmap\u001b[39m)\n",
      "\u001b[0;31mTypeError\u001b[0m: cannot load numpy array with dtype object",
      "\nThe above exception was the direct cause of the following exception:\n",
      "\u001b[0;31mYamlParseError\u001b[0m                            Traceback (most recent call last)",
      "\u001b[1;32m/Users/sterling/Dropbox/projects/galaxy_photometry/ceers_catalog.ipynb Cell 2\u001b[0m line \u001b[0;36m5\n\u001b[1;32m      <a href='vscode-notebook-cell:/Users/sterling/Dropbox/projects/galaxy_photometry/ceers_catalog.ipynb#W1sZmlsZQ%3D%3D?line=1'>2</a>\u001b[0m filepath \u001b[39m=\u001b[39m \u001b[39m'\u001b[39m\u001b[39mceers/merged_v0.51_catalog.hdf5\u001b[39m\u001b[39m'\u001b[39m\n\u001b[1;32m      <a href='vscode-notebook-cell:/Users/sterling/Dropbox/projects/galaxy_photometry/ceers_catalog.ipynb#W1sZmlsZQ%3D%3D?line=3'>4</a>\u001b[0m \u001b[39mfrom\u001b[39;00m \u001b[39mastropy\u001b[39;00m\u001b[39m.\u001b[39;00m\u001b[39mio\u001b[39;00m\u001b[39m.\u001b[39;00m\u001b[39mmisc\u001b[39;00m\u001b[39m.\u001b[39;00m\u001b[39mhdf5\u001b[39;00m \u001b[39mimport\u001b[39;00m read_table_hdf5\n\u001b[0;32m----> <a href='vscode-notebook-cell:/Users/sterling/Dropbox/projects/galaxy_photometry/ceers_catalog.ipynb#W1sZmlsZQ%3D%3D?line=4'>5</a>\u001b[0m read_table_hdf5(filepath)\n",
      "File \u001b[0;32m~/miniconda3/envs/py311/lib/python3.11/site-packages/astropy/io/misc/hdf5.py:142\u001b[0m, in \u001b[0;36mread_table_hdf5\u001b[0;34m(input, path, character_as_bytes)\u001b[0m\n\u001b[1;32m    139\u001b[0m f \u001b[39m=\u001b[39m h5py\u001b[39m.\u001b[39mFile(\u001b[39minput\u001b[39m, \u001b[39m\"\u001b[39m\u001b[39mr\u001b[39m\u001b[39m\"\u001b[39m)\n\u001b[1;32m    141\u001b[0m \u001b[39mtry\u001b[39;00m:\n\u001b[0;32m--> 142\u001b[0m     \u001b[39mreturn\u001b[39;00m read_table_hdf5(f, path\u001b[39m=\u001b[39;49mpath, character_as_bytes\u001b[39m=\u001b[39;49mcharacter_as_bytes)\n\u001b[1;32m    143\u001b[0m \u001b[39mfinally\u001b[39;00m:\n\u001b[1;32m    144\u001b[0m     f\u001b[39m.\u001b[39mclose()\n",
      "File \u001b[0;32m~/miniconda3/envs/py311/lib/python3.11/site-packages/astropy/io/misc/hdf5.py:124\u001b[0m, in \u001b[0;36mread_table_hdf5\u001b[0;34m(input, path, character_as_bytes)\u001b[0m\n\u001b[1;32m    117\u001b[0m             \u001b[39mif\u001b[39;00m \u001b[39mlen\u001b[39m(arrays) \u001b[39m>\u001b[39m \u001b[39m1\u001b[39m:\n\u001b[1;32m    118\u001b[0m                 warnings\u001b[39m.\u001b[39mwarn(\n\u001b[1;32m    119\u001b[0m                     \u001b[39m\"\u001b[39m\u001b[39mpath= was not specified but multiple tables\u001b[39m\u001b[39m\"\u001b[39m\n\u001b[1;32m    120\u001b[0m                     \u001b[39m\"\u001b[39m\u001b[39m are present, reading in first available\u001b[39m\u001b[39m\"\u001b[39m\n\u001b[1;32m    121\u001b[0m                     \u001b[39mf\u001b[39m\u001b[39m\"\u001b[39m\u001b[39m table (path=\u001b[39m\u001b[39m{\u001b[39;00mpath\u001b[39m}\u001b[39;00m\u001b[39m)\u001b[39m\u001b[39m\"\u001b[39m,\n\u001b[1;32m    122\u001b[0m                     AstropyUserWarning,\n\u001b[1;32m    123\u001b[0m                 )\n\u001b[0;32m--> 124\u001b[0m             \u001b[39mreturn\u001b[39;00m read_table_hdf5(\u001b[39minput\u001b[39;49m, path\u001b[39m=\u001b[39;49mpath)\n\u001b[1;32m    126\u001b[0m \u001b[39melif\u001b[39;00m \u001b[39mnot\u001b[39;00m \u001b[39misinstance\u001b[39m(\u001b[39minput\u001b[39m, h5py\u001b[39m.\u001b[39mDataset):\n\u001b[1;32m    127\u001b[0m     \u001b[39m# If a file object was passed, then we need to extract the filename\u001b[39;00m\n\u001b[1;32m    128\u001b[0m     \u001b[39m# because h5py cannot properly read in file objects.\u001b[39;00m\n\u001b[1;32m    130\u001b[0m     \u001b[39mif\u001b[39;00m \u001b[39mhasattr\u001b[39m(\u001b[39minput\u001b[39m, \u001b[39m\"\u001b[39m\u001b[39mread\u001b[39m\u001b[39m\"\u001b[39m):\n",
      "File \u001b[0;32m~/miniconda3/envs/py311/lib/python3.11/site-packages/astropy/io/misc/hdf5.py:163\u001b[0m, in \u001b[0;36mread_table_hdf5\u001b[0;34m(input, path, character_as_bytes)\u001b[0m\n\u001b[1;32m    161\u001b[0m \u001b[39mif\u001b[39;00m old_version_meta \u001b[39mor\u001b[39;00m new_version_meta:\n\u001b[1;32m    162\u001b[0m     \u001b[39mif\u001b[39;00m new_version_meta:\n\u001b[0;32m--> 163\u001b[0m         header \u001b[39m=\u001b[39m meta\u001b[39m.\u001b[39;49mget_header_from_yaml(\n\u001b[1;32m    164\u001b[0m             h\u001b[39m.\u001b[39;49mdecode(\u001b[39m\"\u001b[39;49m\u001b[39mutf-8\u001b[39;49m\u001b[39m\"\u001b[39;49m) \u001b[39mfor\u001b[39;49;00m h \u001b[39min\u001b[39;49;00m input_save[meta_path(path)]\n\u001b[1;32m    165\u001b[0m         )\n\u001b[1;32m    166\u001b[0m     \u001b[39melse\u001b[39;00m:\n\u001b[1;32m    167\u001b[0m         \u001b[39m# Must be old_version_meta is True. if (A or B) and not A then B is True\u001b[39;00m\n\u001b[1;32m    168\u001b[0m         header \u001b[39m=\u001b[39m meta\u001b[39m.\u001b[39mget_header_from_yaml(\n\u001b[1;32m    169\u001b[0m             h\u001b[39m.\u001b[39mdecode(\u001b[39m\"\u001b[39m\u001b[39mutf-8\u001b[39m\u001b[39m\"\u001b[39m) \u001b[39mfor\u001b[39;00m h \u001b[39min\u001b[39;00m \u001b[39minput\u001b[39m\u001b[39m.\u001b[39mattrs[META_KEY]\n\u001b[1;32m    170\u001b[0m         )\n",
      "File \u001b[0;32m~/miniconda3/envs/py311/lib/python3.11/site-packages/astropy/table/meta.py:433\u001b[0m, in \u001b[0;36mget_header_from_yaml\u001b[0;34m(lines)\u001b[0m\n\u001b[1;32m    431\u001b[0m     header \u001b[39m=\u001b[39m yaml\u001b[39m.\u001b[39mload(header_yaml, Loader\u001b[39m=\u001b[39mTableLoader)\n\u001b[1;32m    432\u001b[0m \u001b[39mexcept\u001b[39;00m \u001b[39mException\u001b[39;00m \u001b[39mas\u001b[39;00m err:\n\u001b[0;32m--> 433\u001b[0m     \u001b[39mraise\u001b[39;00m YamlParseError() \u001b[39mfrom\u001b[39;00m \u001b[39merr\u001b[39;00m\n\u001b[1;32m    435\u001b[0m \u001b[39mreturn\u001b[39;00m header\n",
      "\u001b[0;31mYamlParseError\u001b[0m: "
     ]
    }
   ],
   "source": [
    "from astropy.io.misc.hdf5 import read_table_hdf5\n",
    "filepath = 'ceers/merged_v0.51_catalog.hdf5'\n",
    "\n",
    "read_table_hdf5(filepath)"
   ]
  },
  {
   "cell_type": "code",
   "execution_count": 11,
   "metadata": {},
   "outputs": [
    {
     "data": {
      "text/plain": [
       "<KeysViewHDF5 ['__astropy_table__', '__astropy_table__.__table_column_meta__']>"
      ]
     },
     "execution_count": 11,
     "metadata": {},
     "output_type": "execute_result"
    }
   ],
   "source": [
    "file.keys()"
   ]
  },
  {
   "cell_type": "code",
   "execution_count": 8,
   "metadata": {},
   "outputs": [
    {
     "ename": "ValueError",
     "evalue": "Inconsistent data column lengths: {444, 53885}",
     "output_type": "error",
     "traceback": [
      "\u001b[0;31m---------------------------------------------------------------------------\u001b[0m",
      "\u001b[0;31mValueError\u001b[0m                                Traceback (most recent call last)",
      "\u001b[1;32m/Users/sterling/Dropbox/projects/galaxy_photometry/ceers_catalog.ipynb Cell 3\u001b[0m line \u001b[0;36m1\n\u001b[0;32m----> <a href='vscode-notebook-cell:/Users/sterling/Dropbox/projects/galaxy_photometry/ceers_catalog.ipynb#W2sZmlsZQ%3D%3D?line=0'>1</a>\u001b[0m Table(file)\n",
      "File \u001b[0;32m~/miniconda3/envs/py311/lib/python3.11/site-packages/astropy/table/table.py:870\u001b[0m, in \u001b[0;36mTable.__init__\u001b[0;34m(self, data, masked, names, dtype, meta, copy, rows, copy_indices, units, descriptions, **kwargs)\u001b[0m\n\u001b[1;32m    867\u001b[0m \u001b[39mself\u001b[39m\u001b[39m.\u001b[39m_check_names_dtype(names, dtype, n_cols)\n\u001b[1;32m    869\u001b[0m \u001b[39m# Finally do the real initialization\u001b[39;00m\n\u001b[0;32m--> 870\u001b[0m init_func(data, names, dtype, n_cols, copy)\n\u001b[1;32m    872\u001b[0m \u001b[39m# Set table meta.  If copy=True then deepcopy meta otherwise use the\u001b[39;00m\n\u001b[1;32m    873\u001b[0m \u001b[39m# user-supplied meta directly.\u001b[39;00m\n\u001b[1;32m    874\u001b[0m \u001b[39mif\u001b[39;00m meta \u001b[39mis\u001b[39;00m \u001b[39mnot\u001b[39;00m \u001b[39mNone\u001b[39;00m:\n",
      "File \u001b[0;32m~/miniconda3/envs/py311/lib/python3.11/site-packages/astropy/table/table.py:1417\u001b[0m, in \u001b[0;36mTable._init_from_dict\u001b[0;34m(self, data, names, dtype, n_cols, copy)\u001b[0m\n\u001b[1;32m   1415\u001b[0m \u001b[39m\u001b[39m\u001b[39m\"\"\"Initialize table from a dictionary of columns.\"\"\"\u001b[39;00m\n\u001b[1;32m   1416\u001b[0m data_list \u001b[39m=\u001b[39m [data[name] \u001b[39mfor\u001b[39;00m name \u001b[39min\u001b[39;00m names]\n\u001b[0;32m-> 1417\u001b[0m \u001b[39mself\u001b[39;49m\u001b[39m.\u001b[39;49m_init_from_list(data_list, names, dtype, n_cols, copy)\n",
      "File \u001b[0;32m~/miniconda3/envs/py311/lib/python3.11/site-packages/astropy/table/table.py:1239\u001b[0m, in \u001b[0;36mTable._init_from_list\u001b[0;34m(self, data, names, dtype, n_cols, copy)\u001b[0m\n\u001b[1;32m   1235\u001b[0m     col \u001b[39m=\u001b[39m \u001b[39mself\u001b[39m\u001b[39m.\u001b[39m_convert_data_to_col(col, copy, default_name, dtype, name)\n\u001b[1;32m   1237\u001b[0m     cols\u001b[39m.\u001b[39mappend(col)\n\u001b[0;32m-> 1239\u001b[0m \u001b[39mself\u001b[39;49m\u001b[39m.\u001b[39;49m_init_from_cols(cols)\n",
      "File \u001b[0;32m~/miniconda3/envs/py311/lib/python3.11/site-packages/astropy/table/table.py:1461\u001b[0m, in \u001b[0;36mTable._init_from_cols\u001b[0;34m(self, cols)\u001b[0m\n\u001b[1;32m   1459\u001b[0m lengths \u001b[39m=\u001b[39m {\u001b[39mlen\u001b[39m(col) \u001b[39mfor\u001b[39;00m col \u001b[39min\u001b[39;00m cols}\n\u001b[1;32m   1460\u001b[0m \u001b[39mif\u001b[39;00m \u001b[39mlen\u001b[39m(lengths) \u001b[39m>\u001b[39m \u001b[39m1\u001b[39m:\n\u001b[0;32m-> 1461\u001b[0m     \u001b[39mraise\u001b[39;00m \u001b[39mValueError\u001b[39;00m(\u001b[39mf\u001b[39m\u001b[39m\"\u001b[39m\u001b[39mInconsistent data column lengths: \u001b[39m\u001b[39m{\u001b[39;00mlengths\u001b[39m}\u001b[39;00m\u001b[39m\"\u001b[39m)\n\u001b[1;32m   1463\u001b[0m \u001b[39m# Make sure that all Column-based objects have correct class.  For\u001b[39;00m\n\u001b[1;32m   1464\u001b[0m \u001b[39m# plain Table this is self.ColumnClass, but for instance QTable will\u001b[39;00m\n\u001b[1;32m   1465\u001b[0m \u001b[39m# convert columns with units to a Quantity mixin.\u001b[39;00m\n\u001b[1;32m   1466\u001b[0m newcols \u001b[39m=\u001b[39m [\u001b[39mself\u001b[39m\u001b[39m.\u001b[39m_convert_col_for_table(col) \u001b[39mfor\u001b[39;00m col \u001b[39min\u001b[39;00m cols]\n",
      "\u001b[0;31mValueError\u001b[0m: Inconsistent data column lengths: {444, 53885}"
     ]
    }
   ],
   "source": [
    "Table(file.attrs.items())"
   ]
  }
 ],
 "metadata": {
  "kernelspec": {
   "display_name": "Python 3",
   "language": "python",
   "name": "python3"
  },
  "language_info": {
   "codemirror_mode": {
    "name": "ipython",
    "version": 3
   },
   "file_extension": ".py",
   "mimetype": "text/x-python",
   "name": "python",
   "nbconvert_exporter": "python",
   "pygments_lexer": "ipython3",
   "version": "3.11.5"
  }
 },
 "nbformat": 4,
 "nbformat_minor": 2
}
